{
 "cells": [
  {
   "cell_type": "code",
   "execution_count": 2,
   "id": "942ad42d",
   "metadata": {},
   "outputs": [],
   "source": [
    "import pandas as pd\n",
    "import os"
   ]
  },
  {
   "cell_type": "code",
   "execution_count": 4,
   "id": "03f6891b",
   "metadata": {},
   "outputs": [],
   "source": [
    "raw_data = pd.read_csv('/Users/pranith/Code/CACTUS/data/Raw/all_clean_data.csv', encoding='ISO-8859-1')\n",
    "pro_data = pd.read_csv('/Users/pranith/Code/CACTUS/data/Processed/editeddataset.csv', encoding='ISO-8859-1')"
   ]
  },
  {
   "cell_type": "code",
   "execution_count": 5,
   "id": "4662ebfb",
   "metadata": {},
   "outputs": [
    {
     "name": "stdout",
     "output_type": "stream",
     "text": [
      "                                               Query            Tool\n",
      "0  Can I find academic research papers on this to...  ResearchHelper\n",
      "1               Can I find any peer-reviewed papers?  ResearchHelper\n",
      "2              Can I generate bibtex bibliographies?  ResearchHelper\n",
      "3                   Can I use Crossref with Chatbot?  ResearchHelper\n",
      "4  Can you answer a question about a research pap...  ResearchHelper\n"
     ]
    }
   ],
   "source": [
    "print(raw_data.head())"
   ]
  },
  {
   "cell_type": "code",
   "execution_count": 6,
   "id": "af71b7e6",
   "metadata": {},
   "outputs": [
    {
     "name": "stdout",
     "output_type": "stream",
     "text": [
      "                                               Query            Tool  \\\n",
      "0  Can I find academic research papers on this to...  ResearchHelper   \n",
      "1               Can I find any peer-reviewed papers?  ResearchHelper   \n",
      "2              Can I generate bibtex bibliographies?  ResearchHelper   \n",
      "3                   Can I use Crossref with Chatbot?  ResearchHelper   \n",
      "4  Can you answer a question about a research pap...  ResearchHelper   \n",
      "\n",
      "                            New Tools  \n",
      "0  Elicit, SciSpace, Semantic Scholar  \n",
      "1  Elicit, SciSpace, Semantic Scholar  \n",
      "2  Elicit, SciSpace, Semantic Scholar  \n",
      "3  Elicit, SciSpace, Semantic Scholar  \n",
      "4  Elicit, SciSpace, Semantic Scholar  \n"
     ]
    }
   ],
   "source": [
    "print(pro_data.head())"
   ]
  },
  {
   "cell_type": "code",
   "execution_count": 7,
   "id": "9acd4199",
   "metadata": {},
   "outputs": [
    {
     "name": "stdout",
     "output_type": "stream",
     "text": [
      "<class 'pandas.core.frame.DataFrame'>\n",
      "RangeIndex: 20614 entries, 0 to 20613\n",
      "Data columns (total 2 columns):\n",
      " #   Column  Non-Null Count  Dtype \n",
      "---  ------  --------------  ----- \n",
      " 0   Query   20614 non-null  object\n",
      " 1   Tool    20614 non-null  object\n",
      "dtypes: object(2)\n",
      "memory usage: 322.2+ KB\n",
      "None\n"
     ]
    }
   ],
   "source": [
    "print(raw_data.info())"
   ]
  },
  {
   "cell_type": "code",
   "execution_count": 8,
   "id": "713c29f0",
   "metadata": {},
   "outputs": [
    {
     "name": "stdout",
     "output_type": "stream",
     "text": [
      "<class 'pandas.core.frame.DataFrame'>\n",
      "RangeIndex: 20614 entries, 0 to 20613\n",
      "Data columns (total 3 columns):\n",
      " #   Column     Non-Null Count  Dtype \n",
      "---  ------     --------------  ----- \n",
      " 0   Query      20614 non-null  object\n",
      " 1   Tool       20614 non-null  object\n",
      " 2   New Tools  20614 non-null  object\n",
      "dtypes: object(3)\n",
      "memory usage: 483.3+ KB\n",
      "None\n"
     ]
    }
   ],
   "source": [
    "print(pro_data.info())"
   ]
  },
  {
   "cell_type": "code",
   "execution_count": null,
   "id": "fb77f95d",
   "metadata": {},
   "outputs": [],
   "source": []
  }
 ],
 "metadata": {
  "kernelspec": {
   "display_name": "Python 3",
   "language": "python",
   "name": "python3"
  },
  "language_info": {
   "codemirror_mode": {
    "name": "ipython",
    "version": 3
   },
   "file_extension": ".py",
   "mimetype": "text/x-python",
   "name": "python",
   "nbconvert_exporter": "python",
   "pygments_lexer": "ipython3",
   "version": "3.12.1"
  }
 },
 "nbformat": 4,
 "nbformat_minor": 5
}
